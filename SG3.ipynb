{
 "cells": [
  {
   "cell_type": "markdown",
   "metadata": {
    "colab_type": "text",
    "id": "view-in-github"
   },
   "source": [
    "<a href=\"https://colab.research.google.com/github/dvschultz/stylegan3/blob/main/SG3.ipynb\" target=\"_parent\"><img src=\"https://colab.research.google.com/assets/colab-badge.svg\" alt=\"Open In Colab\"/></a>"
   ]
  },
  {
   "cell_type": "markdown",
   "metadata": {
    "id": "TV_ylWt7YjoY"
   },
   "source": [
    "# StyleGAN3\n",
    "\n",
    "By [Derrick Schultz](https://twitter.com/dvsch), with contributions from [crimeacs](https://twitter.com/EarthML1)\n",
    "\n",
    "Just starting this...expect more updates soon.\n",
    "\n",
    "If you find this helpful, please consider backing me on [Patreon](https://www.patreon.com/bustbright) or becoming a [YouTube channel member](https://www.youtube.com/channel/UCaZuPdmZ380SFUMKHVsv_AA/join)."
   ]
  },
  {
   "cell_type": "markdown",
   "metadata": {
    "id": "Xs28QcYEwPM_"
   },
   "source": [
    "## Setup"
   ]
  },
  {
   "cell_type": "code",
   "execution_count": 1,
   "metadata": {
    "id": "8bdgviQQO8WJ"
   },
   "outputs": [
    {
     "name": "stdout",
     "output_type": "stream",
     "text": [
      "GPU 0: NVIDIA GeForce RTX 2080 Ti (UUID: GPU-ff73e77a-b8d4-004e-34cf-4d49ed29e5df)\n"
     ]
    }
   ],
   "source": [
    "!nvidia-smi -L"
   ]
  },
  {
   "cell_type": "code",
   "execution_count": null,
   "metadata": {
    "id": "TL1ERDs1PKJy"
   },
   "outputs": [],
   "source": [
    "from google.colab import drive\n",
    "drive.mount('/content/drive')"
   ]
  },
  {
   "cell_type": "code",
   "execution_count": null,
   "metadata": {
    "id": "KZ04kX_gPBIz"
   },
   "outputs": [],
   "source": [
    "import os\n",
    "if os.path.isdir(\"/content/drive/MyDrive/colab-sg3\"):\n",
    "    %cd \"/content/drive/MyDrive/colab-sg3/stylegan3/\"\n",
    "elif os.path.isdir(\"/content/drive/\"):\n",
    "    #install script\n",
    "    %cd \"/content/drive/MyDrive/\"\n",
    "    !mkdir colab-sg3\n",
    "    %cd colab-sg3\n",
    "    !git clone https://github.com/dvschultz/stylegan3\n",
    "    %cd stylegan3\n",
    "    !mkdir downloads\n",
    "    !mkdir datasets\n",
    "    !mkdir pretrained\n",
    "    !gdown --id 1-5xZkD8ajXw1DdopTkH_rAoCsD72LhKU -O /content/drive/MyDrive/colab-sg2-ada-pytorch/stylegan2-ada-pytorch/pretrained/wikiart.pkl\n",
    "else:\n",
    "    !git clone https://github.com/dvschultz/stylegan3\n",
    "    %cd stylegan3\n",
    "    !mkdir downloads\n",
    "    !mkdir datasets\n",
    "    !mkdir pretrained\n",
    "    %cd pretrained\n",
    "    !gdown --id 1-5xZkD8ajXw1DdopTkH_rAoCsD72LhKU\n",
    "    %cd ../\n",
    "\n",
    "!pip install Ninja opensimplex"
   ]
  },
  {
   "cell_type": "markdown",
   "metadata": {
    "id": "emTj0bXqeyBH"
   },
   "source": [
    "This cell will update to the latest repo. Git and Drive/Colab don’t play as nicely as I’d like so 🤞. The other option is to delete your folder in Drive (after saving out `/results` and `/datasets`!) and running the script above to replace the entire folder."
   ]
  },
  {
   "cell_type": "code",
   "execution_count": null,
   "metadata": {
    "id": "1tgIuCLRehuP"
   },
   "outputs": [],
   "source": [
    "%cd \"/content/drive/My Drive/colab-sg2-ada-pytorch/stylegan2-ada-pytorch\"\n",
    "!git config --global user.name \"test\"\n",
    "!git config --global user.email \"test@test.com\"\n",
    "!git fetch origin\n",
    "!git pull\n",
    "!git stash\n",
    "!git checkout origin/main -- train.py gen_images.py gen_video.py README.md training/training_loop.py"
   ]
  },
  {
   "cell_type": "markdown",
   "metadata": {
    "id": "oT42eC_tPx87"
   },
   "source": [
    "## Convert/Create Dataset\n",
    "Pass a folder of images (just .pngs? TK) to create a zip file."
   ]
  },
  {
   "cell_type": "code",
   "execution_count": null,
   "metadata": {
    "id": "UO7APWvfPbXS"
   },
   "outputs": [],
   "source": [
    "!python dataset_tool.py --source=/content/tmp/drawn-gems-1024 --dest=./datasets/drawn-gems-1024.zip"
   ]
  },
  {
   "cell_type": "markdown",
   "metadata": {
    "id": "EkruyuspXigs"
   },
   "source": [
    "## Training\n",
    "\n",
    "Before you start training, read [this](https://github.com/dvschultz/stylegan3/blob/main/docs/configs.md).\n",
    "\n",
    "Working Notes:\n",
    "- It appears that you must use an SG3 pre-trained model for transfer learning. I _think_ you also want to match config to the pretrained model (`t` with `t`, `r` with `r`).\n",
    "- For an `A100` I’ve found you can use a `--batch-gpu=8`. For other GPUs I recommend `--batch-gpu=4`.\n",
    "- I see `~205 sec/kimg` on A100s, and `~325 sec/kimg` on V100s (1024, `r` config). This seems slightly slower than what [NVIDIA reports.](https://github.com/dvschultz/stylegan3/blob/main/docs/configs.md)"
   ]
  },
  {
   "cell_type": "code",
   "execution_count": null,
   "metadata": {
    "id": "TODwnBpnZYAO"
   },
   "outputs": [],
   "source": [
    "!python train.py --help"
   ]
  },
  {
   "cell_type": "code",
   "execution_count": null,
   "metadata": {
    "id": "3sbpJOHnXn6X"
   },
   "outputs": [],
   "source": [
    "!python train.py --outdir=./results --cfg=stylegan3-r --data=./datasets/drawn-gems-1024.zip \\\n",
    "--gpus=1 --batch=32 --batch-gpu=4 --gamma=10.0 --mirror=1 --kimg=5000 --snap=1 \\\n",
    "--resume=/content/drive/MyDrive/colab-sg3/stylegan3/results/00014-stylegan3-r-drawn-gems-1024-gpus1-batch32-gamma10/network-snapshot-000104.pkl --metrics=None"
   ]
  },
  {
   "cell_type": "markdown",
   "metadata": {
    "id": "_YMK6ADrN1_O"
   },
   "source": [
    "## Image Generation"
   ]
  },
  {
   "cell_type": "code",
   "execution_count": null,
   "metadata": {
    "id": "5T_5FWyVOd5R"
   },
   "outputs": [],
   "source": [
    "!python gen_images.py --help"
   ]
  },
  {
   "cell_type": "code",
   "execution_count": null,
   "metadata": {
    "id": "P1_9acWpQ-Sw"
   },
   "outputs": [],
   "source": [
    "!python gen_images.py --outdir=out --trunc=1 --seeds=2 \\\n",
    "    --network=https://api.ngc.nvidia.com/v2/models/nvidia/research/stylegan3/versions/1/files/stylegan3-r-afhqv2-512x512.pkl"
   ]
  },
  {
   "cell_type": "markdown",
   "metadata": {
    "id": "1go7uPzwN_O6"
   },
   "source": [
    "## Video Generation\n"
   ]
  },
  {
   "cell_type": "code",
   "execution_count": null,
   "metadata": {
    "id": "IfK24HUUOcgc"
   },
   "outputs": [],
   "source": [
    "!python gen_video.py --help"
   ]
  },
  {
   "cell_type": "code",
   "execution_count": null,
   "metadata": {
    "id": "hfDwRHVFOBJU"
   },
   "outputs": [],
   "source": [
    "!python gen_video.py --output=/content/lerp.mp4 --trunc=1 --seeds=100-124 --grid=1x1 --w-frames=72 \\\n",
    "    --network=/content/drive/MyDrive/colab-sg3/stylegan3/results/00014-stylegan3-r-drawn-gems-1024-gpus1-batch32-gamma10/network-snapshot-000104.pkl"
   ]
  },
  {
   "cell_type": "code",
   "execution_count": null,
   "metadata": {
    "id": "IHVJkWOwfMhE"
   },
   "outputs": [],
   "source": []
  }
 ],
 "metadata": {
  "accelerator": "GPU",
  "colab": {
   "include_colab_link": true,
   "name": "SG3.ipynb",
   "private_outputs": true,
   "provenance": []
  },
  "kernelspec": {
   "display_name": "Python [conda env:stylegan3]",
   "language": "python",
   "name": "conda-env-stylegan3-py"
  },
  "language_info": {
   "codemirror_mode": {
    "name": "ipython",
    "version": 3
   },
   "file_extension": ".py",
   "mimetype": "text/x-python",
   "name": "python",
   "nbconvert_exporter": "python",
   "pygments_lexer": "ipython3",
   "version": "3.8.12"
  }
 },
 "nbformat": 4,
 "nbformat_minor": 1
}
