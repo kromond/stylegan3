{
 "cells": [
  {
   "cell_type": "code",
   "execution_count": 7,
   "id": "81cb738b",
   "metadata": {},
   "outputs": [],
   "source": [
    "from pathlib import Path\n",
    "import os\n",
    "rootpath = Path(\"T:\\projects\\other\\stylegan3\")"
   ]
  },
  {
   "cell_type": "code",
   "execution_count": 3,
   "id": "1f0c8d13",
   "metadata": {},
   "outputs": [
    {
     "name": "stdout",
     "output_type": "stream",
     "text": [
      "T:\\projects\\other\\stylegan3\n"
     ]
    }
   ],
   "source": [
    "print(rootpath)"
   ]
  },
  {
   "cell_type": "code",
   "execution_count": 5,
   "id": "d78f2127",
   "metadata": {},
   "outputs": [],
   "source": [
    "dataset = rootpath / 'datasets\\Skull+'"
   ]
  },
  {
   "cell_type": "markdown",
   "id": "b2658ad8",
   "metadata": {},
   "source": [
    "note from the first go:\n",
    "\n",
    "'''# trying small batch size because of out of memory\n",
    "python train.py --data D:\\projects\\stylegan2_ada_shin\\datasets\\body_table1k_subset3_unused\\00000 --outdir=./results --cfg=stylegan3-t --gpus=1 --batch=4 --gamma=10 --mirror=1 --kimg=5000 --snap=5 --metrics=none --resume=https://api.ngc.nvidia.com/v2/models/nvidia/research/stylegan3/versions/1/files/stylegan3-t-ffhq-1024x1024.pkl'''"
   ]
  },
  {
   "cell_type": "code",
   "execution_count": 9,
   "id": "123290be",
   "metadata": {},
   "outputs": [
    {
     "name": "stdout",
     "output_type": "stream",
     "text": [
      "271\n"
     ]
    }
   ],
   "source": [
    "images = sorted([os.path.join(dp,f) for dp, dn, filenames in os.walk(dataset) for f in filenames if os.path.splitext(f)[1].lower() in ['.jpg','.png','.jpeg']])\n",
    "print(len(images))"
   ]
  },
  {
   "cell_type": "markdown",
   "id": "b6c210af",
   "metadata": {},
   "source": [
    "convert command\n",
    "'''\n",
    "python dataset_tool.py --source T:\\projects\\other\\stylegan3\\inputImageSets\\body_table1k_subset3\\00000 --dest T:\\projects\\other\\stylegan3\\datasets  --resolution=1024x1024\n",
    "\n",
    "'''"
   ]
  }
 ],
 "metadata": {
  "kernelspec": {
   "display_name": "Python [conda env:stylegan3]",
   "language": "python",
   "name": "conda-env-stylegan3-py"
  },
  "language_info": {
   "codemirror_mode": {
    "name": "ipython",
    "version": 3
   },
   "file_extension": ".py",
   "mimetype": "text/x-python",
   "name": "python",
   "nbconvert_exporter": "python",
   "pygments_lexer": "ipython3",
   "version": "3.8.12"
  }
 },
 "nbformat": 4,
 "nbformat_minor": 5
}
